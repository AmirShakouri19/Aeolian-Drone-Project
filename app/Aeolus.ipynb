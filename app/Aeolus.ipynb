{
 "cells": [
  {
   "cell_type": "code",
   "execution_count": 1,
   "metadata": {},
   "outputs": [
    {
     "data": {
      "text/html": [
       "<style>.container { width:100% !important; }</style>"
      ],
      "text/plain": [
       "<IPython.core.display.HTML object>"
      ]
     },
     "metadata": {},
     "output_type": "display_data"
    }
   ],
   "source": [
    "from IPython.core.display import display, HTML\n",
    "display(HTML(\"<style>.container { width:100% !important; }</style>\"))"
   ]
  },
  {
   "cell_type": "code",
   "execution_count": 2,
   "metadata": {},
   "outputs": [],
   "source": [
    "import pandas as pd\n",
    "import datetime as dt\n",
    "import seaborn as sns\n",
    "import matplotlib.pyplot as plt\n",
    "import numpy as np\n",
    "import pickle\n",
    "import meteomatics.api as api\n",
    "import datetime as dt\n",
    "import ipywidgets as widgets\n",
    "from ipywidgets import interact, interactive, fixed, interact_manual\n",
    "from IPython.display import display, Markdown, clear_output\n",
    "from ipywidgets import Button, HBox, VBox\n",
    "from IPython.display import Image"
   ]
  },
  {
   "cell_type": "code",
   "execution_count": 3,
   "metadata": {},
   "outputs": [
    {
     "data": {
      "application/vnd.jupyter.widget-view+json": {
       "model_id": "0a53533a17734ea5bb7246df8912d76f",
       "version_major": 2,
       "version_minor": 0
      },
      "text/plain": [
       "HBox(children=(VBox(children=(IntSlider(value=250, description='payload (g)', max=750, step=25), IntSlider(val…"
      ]
     },
     "metadata": {},
     "output_type": "display_data"
    }
   ],
   "source": [
    "\n",
    "#style = {'font_size':30}\n",
    "\n",
    "payload = widgets.IntSlider(description = 'payload (g)', min=0, max=750, value=250, step=25)\n",
    "distance = widgets.IntSlider(description = 'distance (m)', min=100, max=1000, value=150, step=100)\n",
    "direction = widgets.IntSlider(description = 'direction (deg)', min=0, max=360, value=30, step=10)\n",
    "speed = widgets.IntSlider(description = 'speed (m/s)', min=4, max=10, value=4, step=1)\n",
    "altitude = widgets.IntSlider(description = 'altitude (m)', min=25, max=100, value=50, step=5)\n",
    "\n",
    "def on_change(v):\n",
    "    x = v['new']\n",
    "\n",
    "payload.observe(on_change, names='value')\n",
    "distance.observe(on_change, names='value')\n",
    "direction.observe(on_change, names='value')\n",
    "speed.observe(on_change, names='value')\n",
    "altitude.observe(on_change, names='value')\n",
    "\n",
    "lat = widgets.BoundedFloatText(\n",
    "    value=45.42,\n",
    "    min=-90,\n",
    "    max=+90,\n",
    "    step=0.01,\n",
    "    description='Latitude:',\n",
    "    disabled=False\n",
    ")\n",
    "\n",
    "lon = widgets.BoundedFloatText(\n",
    "    value=75.70,\n",
    "    min=-180,\n",
    "    max=+180,\n",
    "    step=0.01,\n",
    "    description='Longitude:',\n",
    "    disabled=False\n",
    ")\n",
    "\n",
    "lat.observe(on_change, names='value')\n",
    "lon.observe(on_change, names='value')\n",
    "\n",
    "button = widgets.Button(description='Calculate')\n",
    "out = widgets.Output()\n",
    "def on_button_clicked(_):\n",
    "      # \"linking function with output\"\n",
    "      with out:\n",
    "        clear_output()\n",
    "        params = [payload.value, distance.value, direction.value, speed.value, altitude.value,lat.value, lon.value]\n",
    "        battery_usage, wind_speed, wind_direction = aeolus(params)\n",
    "        print(f'Predicted Battery Usage = {round(battery_usage,2)} Wh')\n",
    "        print(f'Current Wind Speed at Flight Altitude = {wind_speed} m/s')\n",
    "        print(f'Current Wind Direction at Flight Altitude = {wind_direction} deg (CW relative to North)')\n",
    "        #print(params[5])\n",
    "# linking button and function together using a button's method\n",
    "button.on_click(on_button_clicked)\n",
    "# displaying button and its output together\n",
    "\n",
    "\n",
    "def aeolus(params):\n",
    "    payload = params[0]\n",
    "    distance = params[1]\n",
    "    direction = params[2]\n",
    "    speed = params[3]\n",
    "    altitude = params[4]\n",
    "    lat = params[5]\n",
    "    lon = params[6]\n",
    "    \n",
    "    username = 'lighthousedatasciencelab_shakouri'\n",
    "    password = 'wJg9Fef4uLNP6'\n",
    "    \n",
    "    \n",
    "    coordinates= [(lat,lon)]\n",
    "    \n",
    "    now = dt.datetime.utcnow().replace(hour=0, minute=0, second=0, microsecond=0)\n",
    "    startdate= now\n",
    "    enddate= startdate #+ dt.timedelta(days=1)\n",
    "    interval = dt.timedelta(hours=12)\n",
    "    parameters = [f'wind_speed_{altitude}m:ms',f'wind_dir_{altitude}m:d']\n",
    "    wind_query = api.query_time_series(coordinates, startdate, enddate, interval,\n",
    "                                  parameters, username, password)\n",
    "    wind_speed = wind_query.values.tolist()[0][0]\n",
    "    wind_dir = wind_query.values.tolist()[0][1]\n",
    "    rel_direction = 180 - abs(direction - wind_dir)*np.pi/180\n",
    "    \n",
    "    tailwind = wind_speed * np.cos(rel_direction)\n",
    "    sidewind = wind_speed * np.sin(rel_direction)\n",
    "    \n",
    "    duration_cruise = distance/speed\n",
    "    duration_takeoff = altitude//1.8761485668470712\n",
    "    duration_land = altitude/1.272185544117594\n",
    "    \n",
    "    \n",
    "    data = {'flight_phase':['take_off','cruise','land'], 'payload':[payload,payload,payload],\n",
    "        'duration':[duration_takeoff,duration_cruise,duration_land], 'speed':[0,speed,0],\n",
    "        'altitude_change':[altitude,0,-altitude], 'tailwind':[tailwind/2,tailwind,tailwind/2],\n",
    "        'sidewind':[sidewind/2,sidewind,sidewind/2]}\n",
    "    \n",
    "    flight_plan = pd.DataFrame(data)\n",
    "    #print(flight_plan)\n",
    "    \n",
    "    with open('./Aeolus_Predictor.pickle', 'rb') as f:\n",
    "        predictor_model = pickle.load(f)\n",
    "    \n",
    "    power_consumption = predictor_model.predict(flight_plan)\n",
    "    duration = flight_plan['duration']\n",
    "    battery_usage = power_consumption.dot(duration)/3600\n",
    "    return battery_usage, wind_speed, -wind_dir\n",
    "\n",
    "\n",
    "\n",
    "items1 = [payload,distance,direction,speed,altitude]\n",
    "#items2 =[lat,long]\n",
    "left_box = VBox([items1[0], items1[1], items1[2], items1[3], items1[4]])\n",
    "#middle_box = VBox([items2[0], items2[1]])\n",
    "right_box = VBox([lat,lon,button,out])\n",
    "HBox([left_box, right_box])\n",
    "\n",
    "\n"
   ]
  },
  {
   "cell_type": "code",
   "execution_count": null,
   "metadata": {},
   "outputs": [],
   "source": []
  }
 ],
 "metadata": {
  "hide_input": true,
  "kernelspec": {
   "display_name": "Python 3",
   "language": "python",
   "name": "python3"
  },
  "language_info": {
   "codemirror_mode": {
    "name": "ipython",
    "version": 3
   },
   "file_extension": ".py",
   "mimetype": "text/x-python",
   "name": "python",
   "nbconvert_exporter": "python",
   "pygments_lexer": "ipython3",
   "version": "3.8.8"
  }
 },
 "nbformat": 4,
 "nbformat_minor": 4
}
